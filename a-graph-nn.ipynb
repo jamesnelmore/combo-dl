{
 "cells": [
  {
   "cell_type": "code",
   "execution_count": null,
   "id": "9f1247b2",
   "metadata": {},
   "outputs": [],
   "source": [
    "import torch\n",
    "from torch import nn\n",
    "from torch.nn import Module, Linear, ReLU, Sequential, ModuleList\n",
    "from torch_geometric.nn import GCNConv\n",
    "from torch_geometric.datasets import KarateClub"
   ]
  },
  {
   "cell_type": "code",
   "execution_count": null,
   "id": "01cd9c9a",
   "metadata": {},
   "outputs": [],
   "source": [
    "device: torch.device = torch.device(\"mps\" if torch.backends.mps.is_available() else \"cpu\")"
   ]
  },
  {
   "cell_type": "code",
   "execution_count": null,
   "id": "1ddaaba6",
   "metadata": {},
   "outputs": [],
   "source": [
    "from torch_geometric.datasets import Planetoid, Reddit\n",
    "from torch_geometric.transforms import NormalizeFeatures\n",
    "dataset = Planetoid(root='data/Planetoid', name='Cora', transform=NormalizeFeatures()).to(device)\n",
    "data = dataset[0]"
   ]
  },
  {
   "cell_type": "code",
   "execution_count": null,
   "id": "f9c89ade",
   "metadata": {},
   "outputs": [],
   "source": [
    "class GraphNN(Module):\n",
    "    def __init__(self, input_size: int, hidden_layer_size: int, classes: int, dropout_p=.7):\n",
    "       super().__init__()\n",
    "       self.layer1 = GCNConv(input_size, hidden_layer_size)\n",
    "       self.layer2 = GCNConv(hidden_layer_size, hidden_layer_size)\n",
    "       self.layer3 = GCNConv(hidden_layer_size, classes) # At the end, node features will be a distribution over each class\n",
    "       self.dropout = nn.Dropout(dropout_p)\n",
    "\n",
    "    def forward(self, x, edge_index):\n",
    "        x = self.layer1(x, edge_index)\n",
    "        x = x.relu()\n",
    "        x = self.dropout(x)\n",
    "        x = self.layer2(x, edge_index)\n",
    "        x = x.relu()\n",
    "        x = self.dropout(x)\n",
    "        x = self.layer3(x, edge_index)\n",
    "        return x"
   ]
  },
  {
   "cell_type": "code",
   "execution_count": null,
   "id": "ef9d5b53",
   "metadata": {},
   "outputs": [],
   "source": [
    "model = GraphNN(dataset.num_node_features, 256, dataset.num_classes).to(device)\n",
    "print(model)\n",
    "optimizer = torch.optim.Adam(model.parameters())\n",
    "criterion = torch.nn.CrossEntropyLoss()"
   ]
  },
  {
   "cell_type": "code",
   "execution_count": null,
   "id": "75034d8f",
   "metadata": {},
   "outputs": [],
   "source": [
    "def train():\n",
    "    model.train()\n",
    "    optimizer.zero_grad()\n",
    "    out = model(data.x, data.edge_index)\n",
    "    loss = criterion(out[data.train_mask], data.y[data.train_mask])\n",
    "    loss.backward()\n",
    "    optimizer.step()\n",
    "    return loss\n",
    "\n",
    "for i in range(101):\n",
    "    loss = train()\n",
    "    print(f\"Epoch {i} Loss {loss:.3f}\")"
   ]
  },
  {
   "cell_type": "code",
   "execution_count": null,
   "id": "8e36dd71",
   "metadata": {},
   "outputs": [],
   "source": [
    "# Test\n",
    "model.eval()\n",
    "out = model(data.x, data.edge_index)\n",
    "pred = out.argmax(dim=1)\n",
    "test_correct = pred[data.test_mask] == data.y[data.test_mask]\n",
    "accuracy = int(test_correct.sum()) / int(data.test_mask.sum())\n",
    "print(accuracy)"
   ]
  }
 ],
 "metadata": {
  "kernelspec": {
   "display_name": "thesis",
   "language": "python",
   "name": "python3"
  },
  "language_info": {
   "codemirror_mode": {
    "name": "ipython",
    "version": 3
   },
   "file_extension": ".py",
   "mimetype": "text/x-python",
   "name": "python",
   "nbconvert_exporter": "python",
   "pygments_lexer": "ipython3",
   "version": "3.11.13"
  }
 },
 "nbformat": 4,
 "nbformat_minor": 5
}
