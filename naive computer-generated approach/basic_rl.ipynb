{
 "cells": [
  {
   "cell_type": "code",
   "execution_count": null,
   "metadata": {},
   "outputs": [],
   "source": [
    "import torch\n",
    "from torch import nn"
   ]
  },
  {
   "cell_type": "code",
   "execution_count": null,
   "metadata": {},
   "outputs": [],
   "source": [
    "import torch\n",
    "import torch.nn as nn\n",
    "\n",
    "class PDSSetNetwork(nn.Module):\n",
    "    def __init__(self, group_size=99):\n",
    "        super().__init__()\n",
    "        self.group_size = group_size\n",
    "        \n",
    "        # DeepSets encoder: process each element independently\n",
    "        self.element_encoder = nn.Sequential(\n",
    "            nn.Linear(1, 64),  # element index → embedding\n",
    "            nn.ReLU(),\n",
    "            nn.Linear(64, 128),\n",
    "            nn.ReLU()\n",
    "        )\n",
    "        \n",
    "        # Set aggregation with attention\n",
    "        self.set_attention = nn.MultiheadAttention(\n",
    "            embed_dim=128, \n",
    "            num_heads=8,\n",
    "            batch_first=True\n",
    "        )\n",
    "        \n",
    "        # Decision head: should element i be in PDS?\n",
    "        self.decision_head = nn.Sequential(\n",
    "            nn.Linear(128, 64),\n",
    "            nn.ReLU(),\n",
    "            nn.Linear(64, 1),\n",
    "            nn.Sigmoid()\n",
    "        )\n",
    "    \n",
    "    def forward(self, current_pds_binary):\n",
    "        # Embed each group element\n",
    "        element_indices = torch.arange(self.group_size).float().unsqueeze(-1)\n",
    "        element_embeddings = self.element_encoder(element_indices)\n",
    "        \n",
    "        # Attention over current PDS elements\n",
    "        current_pds_mask = current_pds_binary.bool()\n",
    "        attended_features, _ = self.set_attention(\n",
    "            element_embeddings, element_embeddings, element_embeddings,\n",
    "            key_padding_mask=~current_pds_mask\n",
    "        )\n",
    "        \n",
    "        # Decide on each element\n",
    "        decisions = self.decision_head(attended_features).squeeze(-1)\n",
    "        return decisions"
   ]
  },
  {
   "cell_type": "code",
   "execution_count": null,
   "metadata": {},
   "outputs": [],
   "source": [
    "# Usage with PPO\n",
    "from stable_baselines3 import PPO\n",
    "from stable_baselines3.common.torch_layers import BaseFeaturesExtractor\n",
    "\n",
    "class PDSFeaturesExtractor(BaseFeaturesExtractor):\n",
    "    def __init__(self, observation_space, features_dim=256):\n",
    "        super().__init__(observation_space, features_dim)\n",
    "        self.pds_net = HybridPDSNetwork(observation_space.shape[0])\n",
    "    \n",
    "    def forward(self, observations):\n",
    "        return self.pds_net(observations)\n",
    "\n",
    "# Train with custom architecture\n",
    "model = PPO(\n",
    "    \"MlpPolicy\", \n",
    "    env, \n",
    "    policy_kwargs=dict(\n",
    "        features_extractor_class=PDSFeaturesExtractor,\n",
    "        features_extractor_kwargs=dict(features_dim=256)\n",
    "    )\n",
    ")"
   ]
  }
 ],
 "metadata": {
  "kernelspec": {
   "display_name": ".venv",
   "language": "python",
   "name": "python3"
  },
  "language_info": {
   "codemirror_mode": {
    "name": "ipython",
    "version": 3
   },
   "file_extension": ".py",
   "mimetype": "text/x-python",
   "name": "python",
   "nbconvert_exporter": "python",
   "pygments_lexer": "ipython3"
  }
 },
 "nbformat": 4,
 "nbformat_minor": 2
}
